{
 "cells": [
  {
   "attachments": {},
   "cell_type": "markdown",
   "metadata": {},
   "source": [
    "Q-1.A university wants to understand the relationship between the SAT scores of its\n",
    "    applicants and their college GPA. They collect data on 500 students, including their SAT\n",
    "    scores (out of 1600) and their college GPA (on a 4.0 scale). They find that the correlation\n",
    "    coefficient between SAT scores and college GPA is 0.7. What does this correlation\n",
    "    coefficient indicate about the relationship between SAT scores and college GPA?\n",
    "\n",
    "ANS -  correlation coefficient of 0.7 indicates strong positive relationship.\n",
    "\n",
    "correlation coefficient ranges from -1 to 1.As the value go towards 1 chances of positive value corelation increases. It means as SAT scores increase, college GPA tends to increase as well.but it is no necessary that it proves causation between 2 variables."
   ]
  },
  {
   "attachments": {},
   "cell_type": "markdown",
   "metadata": {},
   "source": [
    "+++++++++++++++++++++++++++_______________________________+++++++++++++++++++++++++++++__________________________+++++++++++++++++++++++"
   ]
  },
  {
   "cell_type": "code",
   "execution_count": 1,
   "metadata": {},
   "outputs": [
    {
     "name": "stdout",
     "output_type": "stream",
     "text": [
      "The percentage of individuals with heights between 160 cm and 180 cm is approximately 68.27%.\n"
     ]
    }
   ],
   "source": [
    "'''  \n",
    "Q2 - Consider a dataset containing the heights (in centimeters) of 1000 individuals. The\n",
    "mean height is 170 cm with a standard deviation of 10 cm. The dataset is approximately\n",
    "normally distributed, and its skewness is approximately zero. Based on this information,\n",
    "answer the following questions:\n",
    "2(a). What percentage of individuals in the dataset have heights between 160 cm\n",
    "and 180 cm?\n",
    "'''\n",
    "import scipy.stats as stats\n",
    "\n",
    "mean_height = 170\n",
    "std_dev = 10\n",
    "lower_height = 160\n",
    "upper_height = 180\n",
    "\n",
    "z_lower = (lower_height - mean_height)/std_dev\n",
    "z_upper = (upper_height - mean_height)/std_dev\n",
    "\n",
    "percentage = stats.norm.cdf(z_upper)-stats.norm.cdf(z_lower)\n",
    "percentage = round(percentage * 100, 2)\n",
    "print(f\"The percentage of individuals with heights between {lower_height} cm and {upper_height} cm is approximately {percentage}%.\")\n"
   ]
  },
  {
   "cell_type": "code",
   "execution_count": 2,
   "metadata": {},
   "outputs": [
    {
     "name": "stdout",
     "output_type": "stream",
     "text": [
      "The probability that the average height of a random sample of 100 individuals is greater than 175 cm is approximately 0.0%.\n"
     ]
    }
   ],
   "source": [
    "'''     \n",
    "2(b). If we randomly select 100 individuals from the dataset, what is the probability\n",
    "that their average height is greater than 175 cm?  \n",
    "'''\n",
    "\n",
    "mean_height = 170\n",
    "std_dev = 10\n",
    "sample_size = 100\n",
    "target_height = 175\n",
    "\n",
    "standard_error = std_dev / (sample_size ** 0.5)\n",
    "z_score = (target_height - mean_height) / standard_error\n",
    "probability = 1 - stats.norm.cdf(z_score)\n",
    "probability = round(probability * 100, 2)\n",
    "print(f\"The probability that the average height of a random sample of {sample_size} individuals is greater than {target_height} cm is approximately {probability}%.\")\n"
   ]
  },
  {
   "cell_type": "code",
   "execution_count": 3,
   "metadata": {},
   "outputs": [
    {
     "name": "stdout",
     "output_type": "stream",
     "text": [
      "The z-score corresponding to a height of 185 cm is 1.5\n"
     ]
    }
   ],
   "source": [
    "'''  \n",
    "2(c)- Assuming the dataset follows a normal distribution, what is the z-score\n",
    "corresponding to a height of 185 cm?\n",
    "'''\n",
    "\n",
    "mean_height = 170\n",
    "std_dev = 10\n",
    "height = 185\n",
    "z_score = (height - mean_height) / std_dev\n",
    "\n",
    "print(\"The z-score corresponding to a height of 185 cm is\", z_score)\n"
   ]
  },
  {
   "cell_type": "code",
   "execution_count": 4,
   "metadata": {},
   "outputs": [
    {
     "name": "stdout",
     "output_type": "stream",
     "text": [
      "The approximate height corresponding to the threshold of 5% is 153.55146373048527\n"
     ]
    }
   ],
   "source": [
    "'''  \n",
    "2(d)- \n",
    "We know that 5% of the dataset has heights below a certain value. What is\n",
    "the approximate height corresponding to this threshold?\n",
    "'''\n",
    "mean_height = 170\n",
    "std_dev = 10\n",
    "threshold = 0.05\n",
    "approx_height = stats.norm.ppf(threshold, loc=mean_height, scale=std_dev)\n",
    "\n",
    "print(\"The approximate height corresponding to the threshold of 5% is\", approx_height)\n"
   ]
  },
  {
   "cell_type": "code",
   "execution_count": 5,
   "metadata": {},
   "outputs": [
    {
     "name": "stdout",
     "output_type": "stream",
     "text": [
      "The coefficient of variation (CV) for the dataset is: 5.88235294117647\n"
     ]
    }
   ],
   "source": [
    "'''  \n",
    "2(e) - Calculate the coefficient of variation (CV) for the dataset.\n",
    "'''\n",
    "mean_height = 170\n",
    "std_dev = 10\n",
    "cv = (std_dev / mean_height) * 100\n",
    "print(\"The coefficient of variation (CV) for the dataset is:\", cv)"
   ]
  },
  {
   "cell_type": "code",
   "execution_count": 6,
   "metadata": {},
   "outputs": [
    {
     "name": "stdout",
     "output_type": "stream",
     "text": [
      "Skewness: 0.17408410439888372\n"
     ]
    }
   ],
   "source": [
    "'''  \n",
    "2(f). Calculate the skewness of the dataset and interpret the result \n",
    "'''\n",
    "import numpy as np\n",
    "\n",
    "mean = 170\n",
    "standard_deviation = 10\n",
    "np.random.seed(0)\n",
    "dataset = np.random.normal(mean, standard_deviation, 1000)\n",
    "median = np.median(dataset)\n",
    "skewness = 3 * (mean - median) / standard_deviation\n",
    "print(\"Skewness:\", skewness)\n"
   ]
  },
  {
   "attachments": {},
   "cell_type": "markdown",
   "metadata": {},
   "source": [
    "+++++++++++++++++++++++++++______________________________+++++++++++++++++++++++++++++__________________________++++++++++++++++++++++++++"
   ]
  },
  {
   "cell_type": "code",
   "execution_count": null,
   "metadata": {},
   "outputs": [],
   "source": []
  },
  {
   "cell_type": "code",
   "execution_count": null,
   "metadata": {},
   "outputs": [],
   "source": []
  },
  {
   "attachments": {},
   "cell_type": "markdown",
   "metadata": {},
   "source": [
    "++++++++++++++++++++++++++____________________________++++++++++++++++++++++++++++++++++__________________________+++++++++++++++++++++++"
   ]
  },
  {
   "attachments": {},
   "cell_type": "markdown",
   "metadata": {},
   "source": [
    "Q4 . A group of 20 friends decide to play a game in which they each write a number\n",
    "between 1 and 20 on a slip of paper and put it into a hat. They then draw one slip of paper\n",
    "at random. What is the probability that the number on the slip of paper is a perfect square\n",
    "(i.e., 1, 4, 9, or 16)?\n",
    "\n"
   ]
  },
  {
   "cell_type": "code",
   "execution_count": 8,
   "metadata": {},
   "outputs": [
    {
     "name": "stdout",
     "output_type": "stream",
     "text": [
      "Approximate probability: 0.0499975\n"
     ]
    }
   ],
   "source": [
    "import random\n",
    "\n",
    "def perfect_square():\n",
    "    perfect_squares = [1, 4, 9, 16]\n",
    "    slips = list(range(1, 21))  # Numbers 1 to 20\n",
    "\n",
    "    # Shuffle the slips and draw one at random\n",
    "    random.shuffle(slips)\n",
    "    drawn_number = slips.pop()\n",
    "\n",
    "    if drawn_number in perfect_squares:\n",
    "        return 1 / len(perfect_squares)\n",
    "    else:\n",
    "        return 0\n",
    "\n",
    "# Run the simulation multiple times to get an approximate probability\n",
    "num_simulations = 100000\n",
    "count_perfect_squares = 0\n",
    "\n",
    "for _ in range(num_simulations):\n",
    "    count_perfect_squares += perfect_square()\n",
    "\n",
    "probability = count_perfect_squares / num_simulations\n",
    "print(\"Approximate probability:\", probability)\n"
   ]
  },
  {
   "attachments": {},
   "cell_type": "markdown",
   "metadata": {},
   "source": [
    "++++++++++++++++++_______________________+++++++++++++++++++++++__________________________++++++++++++++++++++++________________________"
   ]
  },
  {
   "attachments": {},
   "cell_type": "markdown",
   "metadata": {},
   "source": [
    "Q-5. A certain city has two taxi companies: Company A has 80% of the taxis and\n",
    "Company B has 20% of the taxis. Company A's taxis have a 95% success rate for picking\n",
    "up passengers on time, while Company B's taxis have a 90% success rate. If a randomly\n",
    "selected taxi is late, what is the probability that it belongs to Company A?\n"
   ]
  },
  {
   "cell_type": "code",
   "execution_count": 11,
   "metadata": {},
   "outputs": [
    {
     "name": "stdout",
     "output_type": "stream",
     "text": [
      "Probability that a randomly selected late taxi belongs to Company A: 0.6667\n"
     ]
    }
   ],
   "source": [
    "def probability_of_company():\n",
    "    p_a = 0.8  \n",
    "    p_b = 0.2  \n",
    "    p_late_given_a = 0.05  \n",
    "    p_late_given_b = 0.1  \n",
    "\n",
    "    p_late = p_a * p_late_given_a + p_b * p_late_given_b\n",
    "    p_a_given_late = (p_a * p_late_given_a) / p_late\n",
    "\n",
    "    return p_a_given_late\n",
    "\n",
    "probability = probability_of_company()\n",
    "print(\"Probability that a randomly selected late taxi belongs to Company A:\", round(probability,4))\n"
   ]
  },
  {
   "attachments": {},
   "cell_type": "markdown",
   "metadata": {},
   "source": [
    "++++++++++++++++++++++++________________________________++++++++++++++++++++++++++++++++++_______________________________++++++++++++++"
   ]
  },
  {
   "cell_type": "code",
   "execution_count": 12,
   "metadata": {},
   "outputs": [
    {
     "name": "stdout",
     "output_type": "stream",
     "text": [
      "The data does not follow a normal distribution (Shapiro-Wilk test)\n",
      "The data does not follow a normal distribution (Anderson-Darling test)\n"
     ]
    }
   ],
   "source": [
    "'''\n",
    "Q-6.A pharmaceutical company is developing a drug that is supposed to reduce blood\n",
    "pressure. They conduct a clinical trial with 100 patients and record their blood\n",
    "pressure before and after taking the drug. The company wants to know if the change\n",
    "in blood pressure follows a normal distribution\n",
    "'''\n",
    "from scipy import stats\n",
    "data = [-10, -7, -2, -8, -8, -4, -8, -6, -5, -3, -6, -8, -7, -9, -6, -6, -6, -4, -4, -7,\n",
    "        -4, -5, -7, -7, -3, -6, -7, -4, -5, -5, -5, -7, -7, -6, -5, -4, -6, -7, -8, -6,\n",
    "        -3, -5, -5, -5, -5, -4, -6, -7, -7, -6, -4, -4, -5, -6, -6, -6, -3, -5, -5, -4,\n",
    "        -5, -4, -6, -7, -7, -6, -4, -4, -5, -6, -6, -6, -4, -7, -5, -5, -4, -6, -7, -7,\n",
    "        -6, -4, -4, -5]\n",
    "\n",
    "\n",
    "stat, p = stats.shapiro(data)\n",
    "alpha = 0.05\n",
    "if p > alpha:\n",
    "    print(\"The data follows a normal distribution (Shapiro-Wilk test)\")\n",
    "else:\n",
    "    print(\"The data does not follow a normal distribution (Shapiro-Wilk test)\")\n",
    "\n",
    "result = stats.anderson(data)\n",
    "critical_values = result.critical_values\n",
    "significance_levels = result.significance_level\n",
    "\n",
    "for i in range(len(critical_values)):\n",
    "    if result.statistic < critical_values[i]:\n",
    "        print(\"The data follows a normal distribution (Anderson-Darling test)\")\n",
    "        break\n",
    "    elif i == len(critical_values) - 1:\n",
    "        print(\"The data does not follow a normal distribution (Anderson-Darling test)\")\n"
   ]
  },
  {
   "attachments": {},
   "cell_type": "markdown",
   "metadata": {},
   "source": [
    "Q-7.The equations of two lines of regression, obtained in a correlation analysis\n",
    "between variables X and Y are as follows:\n",
    "and . 2𝑋+ 3 − 8 = 0 2𝑌+ 𝑋− 5 = 0 The variance of 𝑋=4Find the\n",
    "a. Variance of Y\n",
    "b. Coefficient of determination of C and Y\n",
    "c. Standard error of estimate of X on Y and of Y on X.\n",
    "\n",
    "The equations of the regression lines are given as:"
   ]
  },
  {
   "cell_type": "code",
   "execution_count": 16,
   "metadata": {},
   "outputs": [
    {
     "name": "stdout",
     "output_type": "stream",
     "text": [
      "Variance of Y: 16\n"
     ]
    }
   ],
   "source": [
    "import math\n",
    "\n",
    "# Given regression equations\n",
    "equation_x = lambda y: (y + 5) / 2\n",
    "equation_y = lambda x: (8 - 2*x) / 2\n",
    "\n",
    "variance_x = 4\n",
    "\n",
    "# Variance of Y\n",
    "variance_y = (2**2) * variance_x\n",
    "print(\"Variance of Y:\", variance_y)"
   ]
  },
  {
   "cell_type": "code",
   "execution_count": 17,
   "metadata": {},
   "outputs": [
    {
     "name": "stdout",
     "output_type": "stream",
     "text": [
      "Coefficient of determination (R-squared) of X and Y: -3.0\n"
     ]
    }
   ],
   "source": [
    "# Coefficient of determination (R-squared)\n",
    "r_squared = (variance_x-variance_y)/variance_x\n",
    "print(\"Coefficient of determination (R-squared) of X and Y:\", r_squared)"
   ]
  },
  {
   "cell_type": "code",
   "execution_count": 18,
   "metadata": {},
   "outputs": [
    {
     "name": "stdout",
     "output_type": "stream",
     "text": [
      "Standard error of estimate of X on Y: 4.0\n",
      "Standard error of estimate of Y on X: 8.0\n"
     ]
    }
   ],
   "source": [
    "# Standard error of estimate of X on Y and Y on X\n",
    "standard_error_xy = math.sqrt((1-r_squared) * variance_x)\n",
    "standard_error_yx = math.sqrt((1-r_squared) * variance_y)\n",
    "print(\"Standard error of estimate of X on Y:\", standard_error_xy)\n",
    "print(\"Standard error of estimate of Y on X:\", standard_error_yx)\n"
   ]
  },
  {
   "attachments": {},
   "cell_type": "markdown",
   "metadata": {},
   "source": [
    "+++++++++++++++++++++++________________________________________+++++++++++++++++++++++++++++++++++__________________________________________"
   ]
  },
  {
   "attachments": {},
   "cell_type": "markdown",
   "metadata": {},
   "source": [
    "Q-10.A factory produces light bulbs, and the probability of a bulb being defective is 0.05.\n",
    "The factory produces a large batch of 500 light bulbs.\n",
    "a. What is the probability that exactly 20 bulbs are defective?\n",
    "b. What is the probability that at least 10 bulbs are defective?\n",
    "c. What is the probability that at max 15 bulbs are defective?\n",
    "d. On average, how many defective bulbs would you expect in a batch of 500?"
   ]
  },
  {
   "cell_type": "code",
   "execution_count": 23,
   "metadata": {},
   "outputs": [
    {
     "name": "stdout",
     "output_type": "stream",
     "text": [
      "Probability of exactly 20 defective bulbs: 0.05161619253663997\n",
      "Probability of at least 10 defective bulbs: 5.549382036817985e-05\n",
      "Probability of at most 15 defective bulbs: 0.9891875405036906\n",
      "Expected number of defective bulbs: 25.0\n"
     ]
    }
   ],
   "source": [
    "# first I will create functions necessary for calculation -\n",
    "import math\n",
    "\n",
    "def binomial_pmf(n, k, p):\n",
    "    \"\"\"\n",
    "    Calculate the probability mass function (PMF) of the binomial distribution.\n",
    "    \"\"\"\n",
    "    coefficient = math.comb(n, k)\n",
    "    probability = coefficient * (p ** k) * ((1 - p) ** (n - k))\n",
    "    return probability\n",
    "\n",
    "def binomial_cdf(n, k, p):\n",
    "    \"\"\"\n",
    "    Calculate the cumulative distribution function (CDF) of the binomial distribution.\n",
    "    \"\"\"\n",
    "    cumulative_prob = 0\n",
    "    for i in range(k, n + 1):\n",
    "        cumulative_prob += binomial_pmf(n, i, p)\n",
    "    return cumulative_prob\n",
    "\n",
    "def expected_value(n, p):\n",
    "    \"\"\"\n",
    "    Calculate the expected value (mean) of the binomial distribution.\n",
    "    \"\"\"\n",
    "    return n * p\n",
    "\n",
    "# a\n",
    "prob_20_defective = binomial_pmf(500, 20, 0.05)\n",
    "print(\"Probability of exactly 20 defective bulbs:\", prob_20_defective)\n",
    "\n",
    "# b\n",
    "prob_at_least_10_defective = 1 - binomial_cdf(500, 9, 0.05)\n",
    "print(\"Probability of at least 10 defective bulbs:\", prob_at_least_10_defective)\n",
    "\n",
    "# c\n",
    "prob_at_most_15_defective = binomial_cdf(500, 15, 0.05)\n",
    "print(\"Probability of at most 15 defective bulbs:\", prob_at_most_15_defective)\n",
    "\n",
    "# d\n",
    "expected_defective = expected_value(500, 0.05)\n",
    "print(\"Expected number of defective bulbs:\", expected_defective)\n"
   ]
  },
  {
   "attachments": {},
   "cell_type": "markdown",
   "metadata": {},
   "source": [
    "++++++++++++++++++++++++++++++++++++++++++++_____________________________________++++++++++++++++++++++++++++++++++++++++++++_____________"
   ]
  },
  {
   "attachments": {},
   "cell_type": "markdown",
   "metadata": {},
   "source": [
    "Q-11. Given the data of a feature contributing to different classes\n",
    "https://drive.google.com/file/d/1mCjtYHiX--mMUjicuaP2gH3k-SnFxt8Y/view?usp\n",
    "=share_\n",
    "a. Check whether the distribution of all the classes are the same or not.\n",
    "b. Check for the equality of variance/\n",
    "c. Which amount LDA and QDA would perform better on this data for\n",
    "classification and why.\n",
    "d. Check the equality of mean for between all the classes"
   ]
  },
  {
   "cell_type": "code",
   "execution_count": null,
   "metadata": {},
   "outputs": [],
   "source": []
  },
  {
   "attachments": {},
   "cell_type": "markdown",
   "metadata": {},
   "source": [
    "++++++++++++++++++++++++++++++++++++________________________________________++++++++++++++++++++++++++++++++++++++++++++++___________________"
   ]
  },
  {
   "attachments": {},
   "cell_type": "markdown",
   "metadata": {},
   "source": [
    "Q-12.A pharmaceutical company develops a new drug and wants to compare its\n",
    "effectiveness against a standard drug for treating a particular condition. They conduct a\n",
    "study with two groups: Group A receives the new drug, and Group B receives the standard\n",
    "drug. The company measures the improvement in a specific symptom for both groups after\n",
    "a 4-week treatment period.\n",
    "a. The company collects data from 30 patients in each group and calculates the\n",
    "mean improvement score and the standard deviation of improvement for each\n",
    "group. The mean improvement score for Group A is 2.5 with a standard\n",
    "deviation of 0.8, while the mean improvement score for Group B is 2.2 with a\n",
    "standard deviation of 0.6. Conduct a t-test to determine if there is a significant\n",
    "difference in the mean improvement scores between the two groups. Use a\n",
    "significance level of 0.05.\n",
    "b. Based on the t-test results, state whether the null hypothesis should be\n",
    "rejected or not. Provide a conclusion in the context of the study.\n"
   ]
  },
  {
   "cell_type": "code",
   "execution_count": 24,
   "metadata": {},
   "outputs": [
    {
     "name": "stdout",
     "output_type": "stream",
     "text": [
      "t-statistic: 1.6431676725154976\n",
      "p-value: 0.10575916705583666\n",
      "Fail to reject the null hypothesis. There is no significant difference in mean improvement scores between the two groups.\n"
     ]
    }
   ],
   "source": [
    "import numpy as np\n",
    "from scipy import stats\n",
    "\n",
    "# Data for Group a\n",
    "group_a_mean = 2.5\n",
    "group_a_std = 0.8\n",
    "group_a_n = 30\n",
    "\n",
    "# Data for Group b\n",
    "group_b_mean = 2.2\n",
    "group_b_std = 0.6\n",
    "group_b_n = 30\n",
    "\n",
    "#degrees of freedom\n",
    "dof = group_a_n + group_b_n - 2\n",
    "#pooled standard deviation\n",
    "pooled_std = np.sqrt(((group_a_n - 1) * group_a_std**2 + (group_b_n - 1) * group_b_std**2) / dof)\n",
    "#t-statistic\n",
    "t_statistic = (group_a_mean - group_b_mean) / (pooled_std * np.sqrt((1/group_a_n) + (1/group_b_n)))\n",
    "#p-value\n",
    "p_value = 2 * (1 - stats.t.cdf(np.abs(t_statistic), dof))\n",
    "# Compare p-value\n",
    "alpha = 0.05\n",
    "if p_value < alpha:\n",
    "    conclusion = \"Reject the null hypothesis. There is a significant difference in mean improvement scores between the two groups.\"\n",
    "else:\n",
    "    conclusion = \"Fail to reject the null hypothesis. There is no significant difference in mean improvement scores between the two groups.\"\n",
    "\n",
    "print(\"t-statistic:\", t_statistic)\n",
    "print(\"p-value:\", p_value)\n",
    "print(conclusion)\n"
   ]
  },
  {
   "cell_type": "code",
   "execution_count": null,
   "metadata": {},
   "outputs": [],
   "source": []
  }
 ],
 "metadata": {
  "kernelspec": {
   "display_name": "eda",
   "language": "python",
   "name": "python3"
  },
  "language_info": {
   "codemirror_mode": {
    "name": "ipython",
    "version": 3
   },
   "file_extension": ".py",
   "mimetype": "text/x-python",
   "name": "python",
   "nbconvert_exporter": "python",
   "pygments_lexer": "ipython3",
   "version": "3.10.9"
  },
  "orig_nbformat": 4
 },
 "nbformat": 4,
 "nbformat_minor": 2
}
