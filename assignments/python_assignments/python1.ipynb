{
 "cells": [
  {
   "cell_type": "code",
   "execution_count": 1,
   "metadata": {},
   "outputs": [
    {
     "name": "stdout",
     "output_type": "stream",
     "text": [
      "most frequent word: write\n",
      "length of the most frequent word: 5\n",
      "frequency of the most frequent word: 3\n"
     ]
    }
   ],
   "source": [
    "def find_highest_frequency_word(string):\n",
    "    words = string.split()\n",
    "    word_freq = {}\n",
    "    for word in words:\n",
    "        if word in word_freq:\n",
    "            word_freq[word] += 1\n",
    "        else:\n",
    "            word_freq[word] = 1\n",
    "    max_freq = max(word_freq.values())\n",
    "    max_freq_words = [word for word, freq in word_freq.items() if freq == max_freq]\n",
    "    highest_freq_word = max(max_freq_words, key=len)\n",
    "    highest_freq_word_length = len(highest_freq_word)\n",
    "    return highest_freq_word, highest_freq_word_length, max_freq\n",
    "\n",
    "string = \"write write write all the number from from from 1 to 100\"\n",
    "most_frequent_word, word_length, word_frequency = find_highest_frequency_word(string)\n",
    "print(\"most frequent word:\", most_frequent_word)\n",
    "print(\"length of the most frequent word:\", word_length)\n",
    "print(\"frequency of the most frequent word:\", word_frequency)"
   ]
  },
  {
   "cell_type": "code",
   "execution_count": 2,
   "metadata": {},
   "outputs": [
    {
     "data": {
      "text/plain": [
       "'NO'"
      ]
     },
     "execution_count": 2,
     "metadata": {},
     "output_type": "execute_result"
    }
   ],
   "source": [
    "def is_valid_string(s):\n",
    "    char_count = {}\n",
    "    for char in s:\n",
    "        char_count[char] = char_count.get(char, 0) + 1\n",
    "    freq_count = {}\n",
    "    for count in char_count.values():\n",
    "        freq_count[count] = freq_count.get(count, 0) + 1\n",
    "    if len(freq_count) == 1:\n",
    "        return \"YES\"\n",
    "    if len(freq_count) > 2:\n",
    "        return \"NO\"\n",
    "    if 1 in freq_count.values() and (freq_count[min(freq_count)] == 1 or max(freq_count) - min(freq_count) == 1):\n",
    "        return \"YES\"\n",
    "    else:\n",
    "        return \"NO\"\n",
    "is_valid_string('')"
   ]
  },
  {
   "cell_type": "code",
   "execution_count": 1,
   "metadata": {},
   "outputs": [
    {
     "name": "stdout",
     "output_type": "stream",
     "text": [
      "Data has been saved to 'pokemon_data.xlsx' in Excel format.\n"
     ]
    }
   ],
   "source": [
    "import pandas as pd\n",
    "import requests\n",
    "url = \"https://raw.githubusercontent.com/Biuni/PokemonGO-Pokedex/master/pokedex.json\"\n",
    "response = requests.get(url)\n",
    "data = response.json()\n",
    "pokemon_data = []\n",
    "for pokemon in data[\"pokemon\"]:\n",
    "    pokemon_info = {\n",
    "        \"id\": pokemon[\"id\"],\n",
    "        \"num\": pokemon[\"num\"],\n",
    "        \"name\": pokemon[\"name\"],\n",
    "        \"img\": pokemon[\"img\"],\n",
    "        \"type\": \", \".join(pokemon[\"type\"]),\n",
    "        \"height\": pokemon[\"height\"],\n",
    "        \"weight\": pokemon[\"weight\"],\n",
    "        \"candy\": pokemon.get(\"candy\", \"\"),\n",
    "        \"candy_count\": pokemon.get(\"candy_count\", \"\"),\n",
    "        \"egg\": pokemon.get(\"egg\", \"\"),\n",
    "        \"spawn_chance\": pokemon.get(\"spawn_chance\", \"\"),\n",
    "        \"avg_spawns\": pokemon.get(\"avg_spawns\", \"\"),\n",
    "        \"spawn_time\": pokemon.get(\"spawn_time\", \"\"),\n",
    "        \"weakness\": \", \".join(pokemon.get(\"weaknesses\", [])),\n",
    "        \"next_evolution\": \", \".join([\n",
    "            f'{evolution.get(\"num\", \"\")} - {evolution.get(\"name\", \"\")}'\n",
    "            for evolution in pokemon.get(\"next_evolution\", [])\n",
    "        ]),\n",
    "        \"prev_evolution\": \", \".join([\n",
    "            f'{evolution.get(\"num\", \"\")} - {evolution.get(\"name\", \"\")}'\n",
    "            for evolution in pokemon.get(\"prev_evolution\", [])\n",
    "        ])\n",
    "    }\n",
    "    pokemon_data.append(pokemon_info)\n",
    "\n",
    "df = pd.DataFrame(pokemon_data)\n",
    "output_file = \"pokemon_data.xlsx\"\n",
    "df.to_excel(output_file, index=False)\n",
    "print(f\"Data has been saved to '{output_file}' in Excel format.\")\n"
   ]
  },
  {
   "cell_type": "code",
   "execution_count": 9,
   "metadata": {},
   "outputs": [
    {
     "data": {
      "text/html": [
       "<div>\n",
       "<style scoped>\n",
       "    .dataframe tbody tr th:only-of-type {\n",
       "        vertical-align: middle;\n",
       "    }\n",
       "\n",
       "    .dataframe tbody tr th {\n",
       "        vertical-align: top;\n",
       "    }\n",
       "\n",
       "    .dataframe thead th {\n",
       "        text-align: right;\n",
       "    }\n",
       "</style>\n",
       "<table border=\"1\" class=\"dataframe\">\n",
       "  <thead>\n",
       "    <tr style=\"text-align: right;\">\n",
       "      <th></th>\n",
       "      <th>id</th>\n",
       "      <th>num</th>\n",
       "      <th>name</th>\n",
       "      <th>img</th>\n",
       "      <th>type</th>\n",
       "      <th>height</th>\n",
       "      <th>weight</th>\n",
       "      <th>candy</th>\n",
       "      <th>candy_count</th>\n",
       "      <th>egg</th>\n",
       "      <th>spawn_chance</th>\n",
       "      <th>avg_spawns</th>\n",
       "      <th>spawn_time</th>\n",
       "      <th>weakness</th>\n",
       "      <th>next_evolution</th>\n",
       "      <th>prev_evolution</th>\n",
       "    </tr>\n",
       "  </thead>\n",
       "  <tbody>\n",
       "    <tr>\n",
       "      <th>0</th>\n",
       "      <td>1</td>\n",
       "      <td>1</td>\n",
       "      <td>Bulbasaur</td>\n",
       "      <td>http://www.serebii.net/pokemongo/pokemon/001.png</td>\n",
       "      <td>Grass, Poison</td>\n",
       "      <td>0.71 m</td>\n",
       "      <td>6.9 kg</td>\n",
       "      <td>Bulbasaur Candy</td>\n",
       "      <td>25.0</td>\n",
       "      <td>2 km</td>\n",
       "      <td>0.690</td>\n",
       "      <td>69.0</td>\n",
       "      <td>20:00</td>\n",
       "      <td>Fire, Ice, Flying, Psychic</td>\n",
       "      <td>002 - Ivysaur, 003 - Venusaur</td>\n",
       "      <td>NaN</td>\n",
       "    </tr>\n",
       "    <tr>\n",
       "      <th>1</th>\n",
       "      <td>2</td>\n",
       "      <td>2</td>\n",
       "      <td>Ivysaur</td>\n",
       "      <td>http://www.serebii.net/pokemongo/pokemon/002.png</td>\n",
       "      <td>Grass, Poison</td>\n",
       "      <td>0.99 m</td>\n",
       "      <td>13.0 kg</td>\n",
       "      <td>Bulbasaur Candy</td>\n",
       "      <td>100.0</td>\n",
       "      <td>Not in Eggs</td>\n",
       "      <td>0.042</td>\n",
       "      <td>4.2</td>\n",
       "      <td>07:00</td>\n",
       "      <td>Fire, Ice, Flying, Psychic</td>\n",
       "      <td>003 - Venusaur</td>\n",
       "      <td>001 - Bulbasaur</td>\n",
       "    </tr>\n",
       "    <tr>\n",
       "      <th>2</th>\n",
       "      <td>3</td>\n",
       "      <td>3</td>\n",
       "      <td>Venusaur</td>\n",
       "      <td>http://www.serebii.net/pokemongo/pokemon/003.png</td>\n",
       "      <td>Grass, Poison</td>\n",
       "      <td>2.01 m</td>\n",
       "      <td>100.0 kg</td>\n",
       "      <td>Bulbasaur Candy</td>\n",
       "      <td>NaN</td>\n",
       "      <td>Not in Eggs</td>\n",
       "      <td>0.017</td>\n",
       "      <td>1.7</td>\n",
       "      <td>11:30</td>\n",
       "      <td>Fire, Ice, Flying, Psychic</td>\n",
       "      <td>NaN</td>\n",
       "      <td>001 - Bulbasaur, 002 - Ivysaur</td>\n",
       "    </tr>\n",
       "    <tr>\n",
       "      <th>3</th>\n",
       "      <td>4</td>\n",
       "      <td>4</td>\n",
       "      <td>Charmander</td>\n",
       "      <td>http://www.serebii.net/pokemongo/pokemon/004.png</td>\n",
       "      <td>Fire</td>\n",
       "      <td>0.61 m</td>\n",
       "      <td>8.5 kg</td>\n",
       "      <td>Charmander Candy</td>\n",
       "      <td>25.0</td>\n",
       "      <td>2 km</td>\n",
       "      <td>0.253</td>\n",
       "      <td>25.3</td>\n",
       "      <td>08:45</td>\n",
       "      <td>Water, Ground, Rock</td>\n",
       "      <td>005 - Charmeleon, 006 - Charizard</td>\n",
       "      <td>NaN</td>\n",
       "    </tr>\n",
       "  </tbody>\n",
       "</table>\n",
       "</div>"
      ],
      "text/plain": [
       "   id  num        name                                               img  \\\n",
       "0   1    1   Bulbasaur  http://www.serebii.net/pokemongo/pokemon/001.png   \n",
       "1   2    2     Ivysaur  http://www.serebii.net/pokemongo/pokemon/002.png   \n",
       "2   3    3    Venusaur  http://www.serebii.net/pokemongo/pokemon/003.png   \n",
       "3   4    4  Charmander  http://www.serebii.net/pokemongo/pokemon/004.png   \n",
       "\n",
       "            type  height    weight             candy  candy_count  \\\n",
       "0  Grass, Poison  0.71 m    6.9 kg   Bulbasaur Candy         25.0   \n",
       "1  Grass, Poison  0.99 m   13.0 kg   Bulbasaur Candy        100.0   \n",
       "2  Grass, Poison  2.01 m  100.0 kg   Bulbasaur Candy          NaN   \n",
       "3           Fire  0.61 m    8.5 kg  Charmander Candy         25.0   \n",
       "\n",
       "           egg  spawn_chance  avg_spawns spawn_time  \\\n",
       "0         2 km         0.690        69.0      20:00   \n",
       "1  Not in Eggs         0.042         4.2      07:00   \n",
       "2  Not in Eggs         0.017         1.7      11:30   \n",
       "3         2 km         0.253        25.3      08:45   \n",
       "\n",
       "                     weakness                     next_evolution  \\\n",
       "0  Fire, Ice, Flying, Psychic      002 - Ivysaur, 003 - Venusaur   \n",
       "1  Fire, Ice, Flying, Psychic                     003 - Venusaur   \n",
       "2  Fire, Ice, Flying, Psychic                                NaN   \n",
       "3         Water, Ground, Rock  005 - Charmeleon, 006 - Charizard   \n",
       "\n",
       "                   prev_evolution  \n",
       "0                             NaN  \n",
       "1                 001 - Bulbasaur  \n",
       "2  001 - Bulbasaur, 002 - Ivysaur  \n",
       "3                             NaN  "
      ]
     },
     "execution_count": 9,
     "metadata": {},
     "output_type": "execute_result"
    }
   ],
   "source": [
    "import pandas as pd\n",
    "df = pd.read_csv('pokemon_data.csv')\n",
    "df.head(4)"
   ]
  },
  {
   "cell_type": "code",
   "execution_count": 10,
   "metadata": {},
   "outputs": [
    {
     "data": {
      "text/plain": [
       "(151, 16)"
      ]
     },
     "execution_count": 10,
     "metadata": {},
     "output_type": "execute_result"
    }
   ],
   "source": [
    "df.shape"
   ]
  },
  {
   "cell_type": "code",
   "execution_count": 21,
   "metadata": {},
   "outputs": [
    {
     "data": {
      "text/plain": [
       "65"
      ]
     },
     "execution_count": 21,
     "metadata": {},
     "output_type": "execute_result"
    }
   ],
   "source": [
    "# Get all Pokémon whose spawn rate is less than 5%\n",
    "five_percent_spawn_rate = len([pokemon for pokemon in pokemon_data if pokemon[\"spawn_chance\"] < 0.05])\n",
    "five_percent_spawn_rate"
   ]
  },
  {
   "cell_type": "code",
   "execution_count": 23,
   "metadata": {},
   "outputs": [
    {
     "data": {
      "text/plain": [
       "0"
      ]
     },
     "execution_count": 23,
     "metadata": {},
     "output_type": "execute_result"
    }
   ],
   "source": [
    "# Get all Pokémon that have less than 4 weaknesses\n",
    "less_than_4_weaknesses = len([pokemon for pokemon in pokemon_data if len(pokemon[\"weakness\"]) < 4])\n",
    "less_than_4_weaknesses"
   ]
  },
  {
   "cell_type": "code",
   "execution_count": 22,
   "metadata": {},
   "outputs": [
    {
     "name": "stdout",
     "output_type": "stream",
     "text": [
      "Data saved successfully as output.csv\n"
     ]
    }
   ],
   "source": [
    "import requests\n",
    "import csv\n",
    "from datetime import datetime\n",
    "\n",
    "\n",
    "def download_data(url):\n",
    "    response = requests.get(url)\n",
    "    if response.status_code == 200:\n",
    "        return response.json()\n",
    "    else:\n",
    "        raise Exception(\"Failed to download data from the URL\")\n",
    "\n",
    "\n",
    "def process_data(data):\n",
    "    processed_data = []\n",
    "    for item in data:\n",
    "        processed_item = {\n",
    "            'Name of Earth Meteorite': item.get('name', ''),\n",
    "            'id': item.get('id', ''),\n",
    "            'nametype': item.get('nametype', ''),\n",
    "            'recclass': item.get('recclass', ''),\n",
    "            'mass': float(item.get('mass', 0)),\n",
    "            'year': datetime.strptime(item.get('year', '1900-01-01T00:00:00.000'), '%Y-%m-%dT%H:%M:%S.%f'),\n",
    "            'reclat': float(item.get('reclat', 0)),\n",
    "            'recclong': float(item.get('reclong', 0)),\n",
    "            'point coordinates': [float(item.get('reclat', 0)), float(item.get('recclong', 0))]\n",
    "        }\n",
    "        processed_data.append(processed_item)\n",
    "    return processed_data\n",
    "\n",
    "def save_as_csv(data, filename):\n",
    "    keys = data[0].keys()\n",
    "    with open(filename, 'w', newline='') as csvfile:\n",
    "        writer = csv.DictWriter(csvfile, fieldnames=keys)\n",
    "        writer.writeheader()\n",
    "        writer.writerows(data)\n",
    "    print(f\"Data saved successfully as {filename}\")\n",
    "\n",
    "def main():\n",
    "    url = \"https://data.nasa.gov/resource/y77d-th95.json\"\n",
    "    data = download_data(url)\n",
    "    processed_data = process_data(data)\n",
    "    save_as_csv(processed_data, 'output.csv')\n",
    "main()"
   ]
  },
  {
   "cell_type": "code",
   "execution_count": 3,
   "metadata": {},
   "outputs": [
    {
     "name": "stdout",
     "output_type": "stream",
     "text": [
      "CSV file saved as \"data.csv\"\n"
     ]
    }
   ],
   "source": [
    "import requests\n",
    "import csv\n",
    "\n",
    "url = 'https://data.wa.gov/api/views/f6w7-q2d2/rows.csv?accessType=DOWNLOAD'\n",
    "response = requests.get(url)\n",
    "if response.status_code == 200:\n",
    "    \n",
    "    data = response.content.decode('utf-8').splitlines()\n",
    "    reader = csv.reader(data)\n",
    "\n",
    "    \n",
    "    with open('data.csv', 'w', newline='') as csvfile:\n",
    "        writer = csv.writer(csvfile)\n",
    "        for row in reader:\n",
    "            writer.writerow(row)\n",
    "\n",
    "    print('CSV file saved as \"data.csv\"')\n",
    "else:\n",
    "    print('Failed to download the CSV file')"
   ]
  },
  {
   "cell_type": "code",
   "execution_count": null,
   "metadata": {},
   "outputs": [],
   "source": []
  },
  {
   "cell_type": "code",
   "execution_count": null,
   "metadata": {},
   "outputs": [],
   "source": []
  },
  {
   "cell_type": "code",
   "execution_count": null,
   "metadata": {},
   "outputs": [],
   "source": []
  },
  {
   "cell_type": "code",
   "execution_count": null,
   "metadata": {},
   "outputs": [],
   "source": []
  },
  {
   "cell_type": "code",
   "execution_count": null,
   "metadata": {},
   "outputs": [],
   "source": []
  }
 ],
 "metadata": {
  "kernelspec": {
   "display_name": "eda",
   "language": "python",
   "name": "python3"
  },
  "language_info": {
   "codemirror_mode": {
    "name": "ipython",
    "version": 3
   },
   "file_extension": ".py",
   "mimetype": "text/x-python",
   "name": "python",
   "nbconvert_exporter": "python",
   "pygments_lexer": "ipython3",
   "version": "3.10.0"
  },
  "orig_nbformat": 4
 },
 "nbformat": 4,
 "nbformat_minor": 2
}
