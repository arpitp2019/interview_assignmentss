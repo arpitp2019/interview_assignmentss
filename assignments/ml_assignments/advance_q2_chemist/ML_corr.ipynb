{
 "cells": [
  {
   "cell_type": "code",
   "execution_count": 34,
   "metadata": {},
   "outputs": [],
   "source": [
    "from pyspark.sql import SparkSession\n",
    "sp = SparkSession.builder.appName('liver').getOrCreate()"
   ]
  },
  {
   "cell_type": "code",
   "execution_count": 35,
   "metadata": {},
   "outputs": [
    {
     "name": "stdout",
     "output_type": "stream",
     "text": [
      "+---+---+---------------+--------------------+------------------------+--------------+--------------------------+-------+------+\n",
      "|_c0|Age|Total_Bilirubin|Alkaline_Phosphotase|Alamine_Aminotransferase|Total_Protiens|Albumin_and_Globulin_Ratio|Dataset|Female|\n",
      "+---+---+---------------+--------------------+------------------------+--------------+--------------------------+-------+------+\n",
      "|  0| 65|            0.7|                 187|                      16|           6.8|                       0.9|      1|     1|\n",
      "|  1| 62|           10.9|                 699|                      64|           7.5|                      0.74|      1|     0|\n",
      "|  2| 62|            7.3|                 490|                      60|           7.0|                      0.89|      1|     0|\n",
      "|  3| 58|            1.0|                 182|                      14|           6.8|                       1.0|      1|     0|\n",
      "|  4| 72|            3.9|                 195|                      27|           7.3|                       0.4|      1|     0|\n",
      "|  5| 46|            1.8|                 208|                      19|           7.6|                       1.3|      1|     0|\n",
      "|  6| 26|            0.9|                 154|                      16|           7.0|                       1.0|      1|     1|\n",
      "|  7| 29|            0.9|                 202|                      14|           6.7|                       1.1|      1|     1|\n",
      "|  8| 17|            0.9|                 202|                      22|           7.4|                       1.2|      2|     0|\n",
      "|  9| 55|            0.7|                 290|                      53|           6.8|                       1.0|      1|     0|\n",
      "| 10| 57|            0.6|                 210|                      51|           5.9|                       0.8|      1|     0|\n",
      "| 11| 72|            2.7|                 260|                      31|           7.4|                       0.6|      1|     0|\n",
      "| 12| 64|            0.9|                 310|                      61|           7.0|                       0.9|      2|     0|\n",
      "| 13| 74|            1.1|                 214|                      22|           8.1|                       1.0|      1|     1|\n",
      "| 14| 61|            0.7|                 145|                      53|           5.8|                      0.87|      1|     0|\n",
      "| 15| 25|            0.6|                 183|                      91|           5.5|                       0.7|      2|     0|\n",
      "| 16| 38|            1.8|                 342|                     168|           7.6|                       1.3|      1|     0|\n",
      "| 17| 33|            1.6|                 165|                      15|           7.3|                      0.92|      2|     0|\n",
      "| 18| 40|            0.9|                 293|                     232|           6.8|                       0.8|      1|     1|\n",
      "| 19| 40|            0.9|                 293|                     232|           6.8|                       0.8|      1|     1|\n",
      "+---+---+---------------+--------------------+------------------------+--------------+--------------------------+-------+------+\n",
      "only showing top 20 rows\n",
      "\n"
     ]
    },
    {
     "name": "stderr",
     "output_type": "stream",
     "text": [
      "23/06/03 00:33:08 WARN CSVHeaderChecker: CSV header does not conform to the schema.\n",
      " Header: , Age, Total_Bilirubin, Alkaline_Phosphotase, Alamine_Aminotransferase, Total_Protiens, Albumin_and_Globulin_Ratio, Dataset, Female\n",
      " Schema: _c0, Age, Total_Bilirubin, Alkaline_Phosphotase, Alamine_Aminotransferase, Total_Protiens, Albumin_and_Globulin_Ratio, Dataset, Female\n",
      "Expected: _c0 but found: \n",
      "CSV file: file:///home/helium/Desktop/DS/data_science/ineuron_assignments/interview_based_assessment/assignment/ML/chemical_flask/df_corr.csv\n"
     ]
    }
   ],
   "source": [
    "df = sp.read.csv('df_corr.csv', inferSchema=True, header=True)\n",
    "df.show()"
   ]
  },
  {
   "cell_type": "code",
   "execution_count": 36,
   "metadata": {},
   "outputs": [
    {
     "name": "stdout",
     "output_type": "stream",
     "text": [
      "+---+---+---------------+--------------------+------------------------+--------------+--------------------------+-------+------+--------------------+\n",
      "|_c0|Age|Total_Bilirubin|Alkaline_Phosphotase|Alamine_Aminotransferase|Total_Protiens|Albumin_and_Globulin_Ratio|Dataset|Female|   feature_assembled|\n",
      "+---+---+---------------+--------------------+------------------------+--------------+--------------------------+-------+------+--------------------+\n",
      "|  0| 65|            0.7|                 187|                      16|           6.8|                       0.9|      1|     1|[65.0,0.7,187.0,1...|\n",
      "|  1| 62|           10.9|                 699|                      64|           7.5|                      0.74|      1|     0|[62.0,10.9,699.0,...|\n",
      "|  2| 62|            7.3|                 490|                      60|           7.0|                      0.89|      1|     0|[62.0,7.3,490.0,6...|\n",
      "|  3| 58|            1.0|                 182|                      14|           6.8|                       1.0|      1|     0|[58.0,1.0,182.0,1...|\n",
      "|  4| 72|            3.9|                 195|                      27|           7.3|                       0.4|      1|     0|[72.0,3.9,195.0,2...|\n",
      "|  5| 46|            1.8|                 208|                      19|           7.6|                       1.3|      1|     0|[46.0,1.8,208.0,1...|\n",
      "|  6| 26|            0.9|                 154|                      16|           7.0|                       1.0|      1|     1|[26.0,0.9,154.0,1...|\n",
      "|  7| 29|            0.9|                 202|                      14|           6.7|                       1.1|      1|     1|[29.0,0.9,202.0,1...|\n",
      "|  8| 17|            0.9|                 202|                      22|           7.4|                       1.2|      2|     0|[17.0,0.9,202.0,2...|\n",
      "|  9| 55|            0.7|                 290|                      53|           6.8|                       1.0|      1|     0|[55.0,0.7,290.0,5...|\n",
      "| 10| 57|            0.6|                 210|                      51|           5.9|                       0.8|      1|     0|[57.0,0.6,210.0,5...|\n",
      "| 11| 72|            2.7|                 260|                      31|           7.4|                       0.6|      1|     0|[72.0,2.7,260.0,3...|\n",
      "| 12| 64|            0.9|                 310|                      61|           7.0|                       0.9|      2|     0|[64.0,0.9,310.0,6...|\n",
      "| 13| 74|            1.1|                 214|                      22|           8.1|                       1.0|      1|     1|[74.0,1.1,214.0,2...|\n",
      "| 14| 61|            0.7|                 145|                      53|           5.8|                      0.87|      1|     0|[61.0,0.7,145.0,5...|\n",
      "| 15| 25|            0.6|                 183|                      91|           5.5|                       0.7|      2|     0|[25.0,0.6,183.0,9...|\n",
      "| 16| 38|            1.8|                 342|                     168|           7.6|                       1.3|      1|     0|[38.0,1.8,342.0,1...|\n",
      "| 17| 33|            1.6|                 165|                      15|           7.3|                      0.92|      2|     0|[33.0,1.6,165.0,1...|\n",
      "| 18| 40|            0.9|                 293|                     232|           6.8|                       0.8|      1|     1|[40.0,0.9,293.0,2...|\n",
      "| 19| 40|            0.9|                 293|                     232|           6.8|                       0.8|      1|     1|[40.0,0.9,293.0,2...|\n",
      "+---+---+---------------+--------------------+------------------------+--------------+--------------------------+-------+------+--------------------+\n",
      "only showing top 20 rows\n",
      "\n"
     ]
    },
    {
     "name": "stderr",
     "output_type": "stream",
     "text": [
      "23/06/03 00:33:08 WARN CSVHeaderChecker: CSV header does not conform to the schema.\n",
      " Header: , Age, Total_Bilirubin, Alkaline_Phosphotase, Alamine_Aminotransferase, Total_Protiens, Albumin_and_Globulin_Ratio, Dataset, Female\n",
      " Schema: _c0, Age, Total_Bilirubin, Alkaline_Phosphotase, Alamine_Aminotransferase, Total_Protiens, Albumin_and_Globulin_Ratio, Dataset, Female\n",
      "Expected: _c0 but found: \n",
      "CSV file: file:///home/helium/Desktop/DS/data_science/ineuron_assignments/interview_based_assessment/assignment/ML/chemical_flask/df_corr.csv\n"
     ]
    }
   ],
   "source": [
    "#MAKE ML CLASSIFICATION MODEL USING PYSPARK- \n",
    "#we will create ML classification model , feature selected by correlation matrix\n",
    "from pyspark.ml.linalg import Vector\n",
    "from pyspark.ml.feature import VectorAssembler\n",
    "assembler_input = ['Age','Total_Bilirubin','Alkaline_Phosphotase','Alamine_Aminotransferase','Total_Protiens','Albumin_and_Globulin_Ratio','Female']\n",
    "vector_assembler = VectorAssembler(inputCols=assembler_input, outputCol='feature_assembled')\n",
    "assembler_temp= vector_assembler.transform(df)\n",
    "assembler_temp.show()"
   ]
  },
  {
   "cell_type": "code",
   "execution_count": 37,
   "metadata": {},
   "outputs": [
    {
     "name": "stdout",
     "output_type": "stream",
     "text": [
      "+-------+--------------------+\n",
      "|Dataset|   feature_assembled|\n",
      "+-------+--------------------+\n",
      "|      1|[65.0,0.7,187.0,1...|\n",
      "|      1|[62.0,10.9,699.0,...|\n",
      "|      1|[62.0,7.3,490.0,6...|\n",
      "|      1|[58.0,1.0,182.0,1...|\n",
      "|      1|[72.0,3.9,195.0,2...|\n",
      "|      1|[46.0,1.8,208.0,1...|\n",
      "|      1|[26.0,0.9,154.0,1...|\n",
      "|      1|[29.0,0.9,202.0,1...|\n",
      "|      2|[17.0,0.9,202.0,2...|\n",
      "|      1|[55.0,0.7,290.0,5...|\n",
      "|      1|[57.0,0.6,210.0,5...|\n",
      "|      1|[72.0,2.7,260.0,3...|\n",
      "|      2|[64.0,0.9,310.0,6...|\n",
      "|      1|[74.0,1.1,214.0,2...|\n",
      "|      1|[61.0,0.7,145.0,5...|\n",
      "|      2|[25.0,0.6,183.0,9...|\n",
      "|      1|[38.0,1.8,342.0,1...|\n",
      "|      2|[33.0,1.6,165.0,1...|\n",
      "|      1|[40.0,0.9,293.0,2...|\n",
      "|      1|[40.0,0.9,293.0,2...|\n",
      "+-------+--------------------+\n",
      "only showing top 20 rows\n",
      "\n"
     ]
    }
   ],
   "source": [
    "assembler = assembler_temp.select(['Dataset','feature_assembled'])\n",
    "assembler.show()"
   ]
  },
  {
   "cell_type": "code",
   "execution_count": 38,
   "metadata": {},
   "outputs": [
    {
     "name": "stdout",
     "output_type": "stream",
     "text": [
      "+-------+--------------------+\n",
      "|Dataset|   feature_assembled|\n",
      "+-------+--------------------+\n",
      "|      2|[22.0,2.7,160.0,8...|\n",
      "|      1|[47.0,0.9,265.0,4...|\n",
      "|      1|[26.0,1.7,210.0,6...|\n",
      "|      1|[46.0,15.8,227.0,...|\n",
      "|      1|[40.0,0.6,171.0,2...|\n",
      "|      1|[61.0,0.8,282.0,8...|\n",
      "|      1|[33.0,1.8,196.0,2...|\n",
      "|      2|[28.0,0.6,159.0,1...|\n",
      "|      1|[66.0,1.1,167.0,1...|\n",
      "|      2|[45.0,0.7,153.0,4...|\n",
      "|      1|[18.0,1.8,178.0,3...|\n",
      "|      1|[43.0,0.9,140.0,1...|\n",
      "|      1|[31.0,1.1,190.0,2...|\n",
      "|      1|[48.0,5.0,555.0,2...|\n",
      "|      1|[35.0,0.8,279.0,2...|\n",
      "|      1|[42.0,0.8,127.0,2...|\n",
      "|      2|[62.0,0.6,160.0,4...|\n",
      "|      2|[64.0,1.1,145.0,2...|\n",
      "|      2|[61.0,1.5,196.0,6...|\n",
      "|      2|[72.0,0.7,185.0,1...|\n",
      "+-------+--------------------+\n",
      "only showing top 20 rows\n",
      "\n"
     ]
    }
   ],
   "source": [
    "assembler.distinct().show()"
   ]
  },
  {
   "cell_type": "code",
   "execution_count": 39,
   "metadata": {},
   "outputs": [
    {
     "name": "stdout",
     "output_type": "stream",
     "text": [
      "+-------+--------------------+\n",
      "|Dataset|   feature_assembled|\n",
      "+-------+--------------------+\n",
      "|      1|[7.0,27.2,1420.0,...|\n",
      "|      1|[8.0,0.9,401.0,25...|\n",
      "|      1|[12.0,1.0,719.0,1...|\n",
      "|      1|[13.0,0.7,182.0,2...|\n",
      "|      1|[13.0,0.7,350.0,1...|\n",
      "|      1|[14.0,1.4,269.0,5...|\n",
      "|      1|[16.0,2.6,236.0,1...|\n",
      "|      1|[16.0,7.7,268.0,2...|\n",
      "|      1|[17.0,0.9,224.0,3...|\n",
      "|      1|[18.0,0.6,265.0,9...|\n",
      "|      1|[18.0,0.7,312.0,3...|\n",
      "|      1|[18.0,0.8,228.0,5...|\n",
      "|      1|[18.0,0.8,282.0,7...|\n",
      "|      1|[18.0,0.8,282.0,7...|\n",
      "|      1|[18.0,0.9,300.0,3...|\n",
      "|      1|[18.0,1.8,178.0,3...|\n",
      "|      1|[19.0,0.7,186.0,1...|\n",
      "|      1|[20.0,16.7,200.0,...|\n",
      "|      1|[21.0,3.9,150.0,3...|\n",
      "|      1|[21.0,18.5,380.0,...|\n",
      "+-------+--------------------+\n",
      "only showing top 20 rows\n",
      "\n",
      "+-------+--------------------+\n",
      "|Dataset|   feature_assembled|\n",
      "+-------+--------------------+\n",
      "|      1|[10.0,0.8,395.0,2...|\n",
      "|      1|[13.0,1.5,575.0,2...|\n",
      "|      1|[15.0,0.8,380.0,2...|\n",
      "|      1|[18.0,0.6,538.0,3...|\n",
      "|      1|[18.0,1.4,215.0,4...|\n",
      "|      1|[21.0,0.6,186.0,2...|\n",
      "|      1|[22.0,2.4,340.0,2...|\n",
      "|      1|[25.0,0.8,130.0,2...|\n",
      "|      1|[26.0,6.8,140.0,3...|\n",
      "|      1|[26.0,7.1,258.0,8...|\n",
      "|      1|[26.0,42.8,390.0,...|\n",
      "|      1|[28.0,0.8,190.0,2...|\n",
      "|      1|[28.0,0.9,215.0,5...|\n",
      "|      1|[29.0,0.9,202.0,1...|\n",
      "|      1|[30.0,1.6,332.0,8...|\n",
      "|      1|[31.0,0.9,518.0,1...|\n",
      "|      1|[32.0,3.7,612.0,5...|\n",
      "|      1|[33.0,3.4,186.0,7...|\n",
      "|      1|[35.0,0.9,158.0,2...|\n",
      "|      1|[36.0,0.8,650.0,7...|\n",
      "+-------+--------------------+\n",
      "only showing top 20 rows\n",
      "\n"
     ]
    }
   ],
   "source": [
    "#train_test_split\n",
    "weights = [0.8, 0.2]  # 80% for training, 20% for testing\n",
    "\n",
    "# Perform the random split\n",
    "random_split = assembler.randomSplit(weights, seed=42)  # Using a seed for reproducibility\n",
    "\n",
    "# Retrieve the split DataFrames\n",
    "training_df = random_split[0]\n",
    "testing_df = random_split[1]\n",
    "\n",
    "# Display the training DataFrame\n",
    "training_df.show()\n",
    "\n",
    "# Display the testing DataFrame\n",
    "testing_df.show()"
   ]
  },
  {
   "cell_type": "code",
   "execution_count": 41,
   "metadata": {},
   "outputs": [],
   "source": [
    "training_df = training_df.withColumnRenamed(\"feature_assembled\", \"features\")\n",
    "testing_df = testing_df.withColumnRenamed(\"feature_assembled\", \"features\")"
   ]
  },
  {
   "cell_type": "code",
   "execution_count": 43,
   "metadata": {},
   "outputs": [],
   "source": [
    "training_df = training_df.withColumn(\"label\", training_df[\"Dataset\"])"
   ]
  },
  {
   "cell_type": "code",
   "execution_count": 44,
   "metadata": {},
   "outputs": [
    {
     "name": "stderr",
     "output_type": "stream",
     "text": [
      "23/06/03 00:37:56 WARN InstanceBuilder: Failed to load implementation from:dev.ludovic.netlib.blas.JNIBLAS\n"
     ]
    }
   ],
   "source": [
    "from pyspark.ml.classification import LogisticRegression\n",
    "log_reg = LogisticRegression().fit(training_df)"
   ]
  },
  {
   "cell_type": "code",
   "execution_count": null,
   "metadata": {},
   "outputs": [],
   "source": []
  }
 ],
 "metadata": {
  "kernelspec": {
   "display_name": "eda",
   "language": "python",
   "name": "python3"
  },
  "language_info": {
   "codemirror_mode": {
    "name": "ipython",
    "version": 3
   },
   "file_extension": ".py",
   "mimetype": "text/x-python",
   "name": "python",
   "nbconvert_exporter": "python",
   "pygments_lexer": "ipython3",
   "version": "3.10.0"
  },
  "orig_nbformat": 4
 },
 "nbformat": 4,
 "nbformat_minor": 2
}
